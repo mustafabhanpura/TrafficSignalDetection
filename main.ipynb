{
 "cells": [
  {
   "cell_type": "code",
   "execution_count": 53,
   "metadata": {},
   "outputs": [],
   "source": [
    "import numpy as np\n",
    "import pandas as pd\n",
    "import matplotlib.pyplot as plt\n",
    "import tensorflow as tf\n",
    "from PIL import Image\n",
    "import os\n",
    "from sklearn.model_selection import train_test_split\n",
    "from keras.utils import to_categorical\n",
    "from keras.models import Sequential\n",
    "from keras.layers import Conv2D,MaxPool2D,Dense,Flatten,Dropout\n",
    "\n",
    "data = []\n",
    "labels = []\n",
    "classes = 43\n",
    "cur_path = os.getcwd()\n",
    "\n",
    "for i in range(classes):\n",
    "    path = os.path.join(cur_path,'Train',str(i))\n",
    "    images = os.listdir(path)\n",
    "    for a in images:\n",
    "        try:\n",
    "            image = Image.open(path + '\\\\'+ a)\n",
    "            image = image.resize((30,30))\n",
    "            image = np.array(image)\n",
    "            #sim = Image.fromarray(image)\n",
    "            data.append(image)\n",
    "            labels.append(i)\n",
    "        except:\n",
    "            print(\"Error loading image\")\n",
    "#Converting lists into numpy arrays\n",
    "data = np.array(data)\n",
    "labels = np.array(labels)\n",
    "a=data\n",
    "b = labels\n"
   ]
  },
  {
   "cell_type": "code",
   "execution_count": 55,
   "metadata": {},
   "outputs": [
    {
     "name": "stdout",
     "output_type": "stream",
     "text": [
      "(39209, 30, 30, 3) (39209,)\n",
      "(30, 30, 3)\n"
     ]
    }
   ],
   "source": [
    "print(a.shape,b.shape)\n",
    "X_train, X_test, y_train,y_test = train_test_split(data,labels,test_size = 0.2,random_state=42)\n",
    "y_train = to_categorical(y_train,43)\n",
    "y_test = to_categorical(y_test,43)\n",
    "print(a.shape[1:])"
   ]
  },
  {
   "cell_type": "code",
   "execution_count": 61,
   "metadata": {
    "scrolled": true
   },
   "outputs": [
    {
     "name": "stdout",
     "output_type": "stream",
     "text": [
      "Train on 31367 samples, validate on 7842 samples\n",
      "Epoch 1/15\n",
      "31367/31367 [==============================] - 141s 5ms/step - loss: 2.0353 - accuracy: 0.4837 - val_loss: 0.4894 - val_accuracy: 0.8767\n",
      "Epoch 2/15\n",
      "31367/31367 [==============================] - 107s 3ms/step - loss: 0.7522 - accuracy: 0.7741 - val_loss: 0.2441 - val_accuracy: 0.9291\n",
      "Epoch 3/15\n",
      "31367/31367 [==============================] - 103s 3ms/step - loss: 0.5586 - accuracy: 0.8333 - val_loss: 0.2318 - val_accuracy: 0.9314\n",
      "Epoch 4/15\n",
      "31367/31367 [==============================] - 102s 3ms/step - loss: 0.4513 - accuracy: 0.8663 - val_loss: 0.1569 - val_accuracy: 0.9528\n",
      "Epoch 5/15\n",
      "31367/31367 [==============================] - 105s 3ms/step - loss: 0.4065 - accuracy: 0.8770 - val_loss: 0.1362 - val_accuracy: 0.9596\n",
      "Epoch 6/15\n",
      "31367/31367 [==============================] - 106s 3ms/step - loss: 0.3724 - accuracy: 0.8899 - val_loss: 0.1699 - val_accuracy: 0.9524\n",
      "Epoch 7/15\n",
      "31367/31367 [==============================] - 99s 3ms/step - loss: 0.3552 - accuracy: 0.8955 - val_loss: 0.1127 - val_accuracy: 0.9649\n",
      "Epoch 8/15\n",
      "31367/31367 [==============================] - 97s 3ms/step - loss: 0.3474 - accuracy: 0.8985 - val_loss: 0.1129 - val_accuracy: 0.9688\n",
      "Epoch 9/15\n",
      "31367/31367 [==============================] - 96s 3ms/step - loss: 0.3080 - accuracy: 0.9088 - val_loss: 0.1114 - val_accuracy: 0.9682\n",
      "Epoch 10/15\n",
      "31367/31367 [==============================] - 96s 3ms/step - loss: 0.3018 - accuracy: 0.9120 - val_loss: 0.0892 - val_accuracy: 0.9759\n",
      "Epoch 11/15\n",
      "31367/31367 [==============================] - 105s 3ms/step - loss: 0.3132 - accuracy: 0.9102 - val_loss: 0.2380 - val_accuracy: 0.9305\n",
      "Epoch 12/15\n",
      "31367/31367 [==============================] - 105s 3ms/step - loss: 0.2871 - accuracy: 0.9167 - val_loss: 0.0891 - val_accuracy: 0.9736\n",
      "Epoch 13/15\n",
      "31367/31367 [==============================] - 104s 3ms/step - loss: 0.3076 - accuracy: 0.9139 - val_loss: 0.1188 - val_accuracy: 0.9666\n",
      "Epoch 14/15\n",
      "31367/31367 [==============================] - 105s 3ms/step - loss: 0.2814 - accuracy: 0.9181 - val_loss: 0.0891 - val_accuracy: 0.9739\n",
      "Epoch 15/15\n",
      "31367/31367 [==============================] - 97s 3ms/step - loss: 0.2886 - accuracy: 0.9202 - val_loss: 0.0884 - val_accuracy: 0.9728\n"
     ]
    }
   ],
   "source": [
    "model = Sequential()\n",
    "model.add(Conv2D(filters=32, kernel_size=(5,5), activation='relu', input_shape=X_train.shape[1:]))\n",
    "model.add(Conv2D(filters=32, kernel_size=(5,5), activation='relu'))\n",
    "model.add(MaxPool2D(pool_size=(2, 2)))\n",
    "model.add(Dropout(rate=0.25))\n",
    "model.add(Conv2D(filters=64, kernel_size=(3, 3), activation='relu'))\n",
    "model.add(Conv2D(filters=64, kernel_size=(3, 3), activation='relu'))\n",
    "model.add(MaxPool2D(pool_size=(2, 2)))\n",
    "model.add(Dropout(rate=0.25))\n",
    "model.add(Flatten())\n",
    "model.add(Dense(256, activation='relu'))\n",
    "model.add(Dropout(rate=0.5))\n",
    "model.add(Dense(43, activation='softmax'))\n",
    "#Compilation of the model\n",
    "model.compile(loss='categorical_crossentropy', optimizer='adam', metrics=['accuracy'])\n",
    "epochs = 15\n",
    "history = model.fit(X_train, y_train, batch_size=32, epochs=epochs, validation_data=(X_test, y_test))"
   ]
  },
  {
   "cell_type": "code",
   "execution_count": 62,
   "metadata": {},
   "outputs": [],
   "source": [
    "model.save('my_model.h5')"
   ]
  },
  {
   "cell_type": "code",
   "execution_count": 63,
   "metadata": {},
   "outputs": [
    {
     "data": {
      "image/png": "[encoded data removed]",
      "text/plain": [
       "<Figure size 432x288 with 1 Axes>"
      ]
     },
     "metadata": {
      "needs_background": "light"
     },
     "output_type": "display_data"
    },
    {
     "data": {
      "image/png": "[encoded data removed]",
      "text/plain": [
       "<Figure size 432x288 with 1 Axes>"
      ]
     },
     "metadata": {
      "needs_background": "light"
     },
     "output_type": "display_data"
    }
   ],
   "source": [
    "plt.figure(0)\n",
    "plt.plot(history.history['accuracy'], label='training accuracy')\n",
    "plt.plot(history.history['val_accuracy'], label='val accuracy')\n",
    "plt.title('Accuracy')\n",
    "plt.xlabel('epochs')\n",
    "plt.ylabel('accuracy')\n",
    "plt.legend()\n",
    "plt.show()\n",
    "\n",
    "\n",
    "plt.figure(1)\n",
    "plt.plot(history.history['loss'], label='training loss')\n",
    "plt.plot(history.history['val_loss'], label='val loss')\n",
    "plt.title('Loss')\n",
    "plt.xlabel('epochs')\n",
    "plt.ylabel('loss')\n",
    "plt.legend()\n",
    "plt.show()"
   ]
  },
  {
   "cell_type": "code",
   "execution_count": null,
   "metadata": {},
   "outputs": [],
   "source": []
  },
  {
   "cell_type": "code",
   "execution_count": 64,
   "metadata": {},
   "outputs": [
    {
     "data": {
      "text/plain": [
       "0.9363420427553444"
      ]
     },
     "execution_count": 64,
     "metadata": {},
     "output_type": "execute_result"
    }
   ],
   "source": [
    "from sklearn.metrics import accuracy_score\n",
    "import pandas as pd\n",
    "y_test = pd.read_csv('Test.csv')\n",
    "labels = y_test[\"ClassId\"].values\n",
    "imgs = y_test[\"Path\"].values\n",
    "\n",
    "data = []\n",
    "\n",
    "for img in imgs:\n",
    "    image = Image.open(img)\n",
    "    image = image.resize((30,30))\n",
    "    data.append(np.array(image))\n",
    "X_test = np.array(data)\n",
    "\n",
    "pred = model.predict_classes(X_test)\n",
    "accuracy_score(labels,pred)"
   ]
  },
  {
   "cell_type": "code",
   "execution_count": 28,
   "metadata": {},
   "outputs": [
    {
     "data": {
      "text/plain": [
       "0.9102929532858274"
      ]
     },
     "execution_count": 28,
     "metadata": {},
     "output_type": "execute_result"
    }
   ],
   "source": [
    "from sklearn.metrics import accuracy_score\n",
    "import pandas as pd\n",
    "y_test = pd.read_csv('Test.csv')\n",
    "labels = y_test[\"ClassId\"].values\n",
    "imgs = y_test[\"Path\"].values\n",
    "\n",
    "data = []\n",
    "\n",
    "for img in imgs:\n",
    "    image = Image.open(img)\n",
    "    image = image.resize((30,30))\n",
    "    data.append(np.array(image))\n",
    "X_test = np.array(data)\n",
    "\n",
    "pred = model.predict_classes(X_test)\n",
    "accuracy_score(labels,pred)\n"
   ]
  },
  {
   "cell_type": "code",
   "execution_count": null,
   "metadata": {},
   "outputs": [],
   "source": []
  },
  {
   "cell_type": "code",
   "execution_count": null,
   "metadata": {},
   "outputs": [],
   "source": []
  },
  {
   "cell_type": "code",
   "execution_count": null,
   "metadata": {},
   "outputs": [],
   "source": []
  }
 ],
 "metadata": {
  "kernelspec": {
   "display_name": "Python 3",
   "language": "python",
   "name": "python3"
  },
  "language_info": {
   "codemirror_mode": {
    "name": "ipython",
    "version": 3
   },
   "file_extension": ".py",
   "mimetype": "text/x-python",
   "name": "python",
   "nbconvert_exporter": "python",
   "pygments_lexer": "ipython3",
   "version": "3.7.4"
  }
 },
 "nbformat": 4,
 "nbformat_minor": 4
}
